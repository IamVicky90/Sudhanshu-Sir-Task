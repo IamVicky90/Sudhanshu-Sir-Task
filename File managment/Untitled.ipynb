{
 "cells": [
  {
   "cell_type": "code",
   "execution_count": 1,
   "metadata": {},
   "outputs": [],
   "source": [
    "import os\n",
    "from difflib import SequenceMatcher"
   ]
  },
  {
   "cell_type": "code",
   "execution_count": 2,
   "metadata": {},
   "outputs": [],
   "source": [
    "all_files=[lst for lst in os.listdir(os.getcwd()) if '.docx' in lst]"
   ]
  },
  {
   "cell_type": "code",
   "execution_count": 3,
   "metadata": {},
   "outputs": [
    {
     "data": {
      "text/plain": [
       "''"
      ]
     },
     "execution_count": 3,
     "metadata": {},
     "output_type": "execute_result"
    }
   ],
   "source": [
    "os.path.commonprefix(os.getcwd())"
   ]
  },
  {
   "cell_type": "code",
   "execution_count": 4,
   "metadata": {},
   "outputs": [],
   "source": [
    "def common_prefix(strings):\n",
    "    lst=[]\n",
    "    if len(strings) == 1:#rule out trivial case\n",
    "        return strings[0]\n",
    "    prefix = strings[0]\n",
    "    for i,string in enumerate(strings[1:]):\n",
    "        while string[:len(prefix)] != prefix and prefix:\n",
    "            prefix = prefix[:len(prefix)-1]\n",
    "        lst.append(prefix)\n",
    "        if not prefix:\n",
    "            prefix=strings[i]\n",
    "    Set=set()\n",
    "    count=0\n",
    "    common=[]\n",
    "    for item in lst[1:]:\n",
    "        if item in lst:\n",
    "            count=count+1\n",
    "            if count>=2:\n",
    "                Set.add(item)\n",
    "    output=list(Set)\n",
    "    return output[1:]"
   ]
  },
  {
   "cell_type": "code",
   "execution_count": 5,
   "metadata": {},
   "outputs": [],
   "source": [
    "dir_list=common_prefix(all_files)"
   ]
  },
  {
   "cell_type": "code",
   "execution_count": 6,
   "metadata": {},
   "outputs": [],
   "source": [
    "import shutil\n",
    "for folder in dir_list:\n",
    "    if folder not in os.listdir(os.getcwd()):\n",
    "        os.mkdir(os.getcwd()+'/'+folder)\n",
    "    try:\n",
    "        for file in all_files:\n",
    "            if folder in file:\n",
    "                shutil.copy(os.getcwd()+'/'+file,os.getcwd()+'/'+folder)\n",
    "    except OSError:\n",
    "        print('You are faceing the OSError')\n",
    "    except OSError:\n",
    "        print('There are no files to copy')"
   ]
  },
  {
   "cell_type": "code",
   "execution_count": 7,
   "metadata": {},
   "outputs": [],
   "source": [
    "import docx"
   ]
  },
  {
   "cell_type": "code",
   "execution_count": 12,
   "metadata": {},
   "outputs": [
    {
     "name": "stdout",
     "output_type": "stream",
     "text": [
      "Programming_Assingment\n",
      "Assignment_\n"
     ]
    }
   ],
   "source": [
    "for folder in dir_list:\n",
    "    print(folder)\n",
    "    if os.path.isdir(os.getcwd()+'/'+folder):\n",
    "        i=0\n",
    "        os.chdir(os.getcwd()+'/'+folder)\n",
    "        for f in os.listdir(os.getcwd()):\n",
    "#             print('@@@@',f)\n",
    "#             print(os.getcwd())\n",
    "            doc = docx.Document(f)\n",
    "            fullText = []\n",
    "            for para in doc.paragraphs:\n",
    "                fullText.append(para.text)\n",
    "                \n",
    "#             print('\\n'.join(fullText))\n",
    "            write='\\n'.join(fullText)\n",
    "            mydoc = docx.Document()\n",
    "            if i==0: \n",
    "                para=mydoc.add_paragraph(str(f)+'\\n'+write)\n",
    "                i=i+1\n",
    "            else: \n",
    "                para.add_run(str(f)+'\\n'+write)\n",
    "        mydoc.save(f'{folder}.docx')\n",
    "        path=os.getcwd().split('\\\\')[:-1]\n",
    "        path='/'.join(path)\n",
    "        os.chdir(path)\n",
    "            \n",
    "\n"
   ]
  },
  {
   "cell_type": "code",
   "execution_count": null,
   "metadata": {},
   "outputs": [],
   "source": []
  }
 ],
 "metadata": {
  "kernelspec": {
   "display_name": "Python 3",
   "language": "python",
   "name": "python3"
  },
  "language_info": {
   "codemirror_mode": {
    "name": "ipython",
    "version": 3
   },
   "file_extension": ".py",
   "mimetype": "text/x-python",
   "name": "python",
   "nbconvert_exporter": "python",
   "pygments_lexer": "ipython3",
   "version": "3.8.5"
  }
 },
 "nbformat": 4,
 "nbformat_minor": 4
}
